{
 "cells": [
  {
   "cell_type": "code",
   "execution_count": null,
   "id": "37d5221e",
   "metadata": {},
   "outputs": [],
   "source": [
    "# 225150207111001_1 MUHAMMAD NADHIF_1\n",
    "# 225150201111002_2 NALENDRA MARCHELO_2\n",
    "# 225150200111005_3 NARENDRA ATHA ABHINAYA_3\n",
    " # 225150200111003_4 YOSUA SAMUEL EDLYN SINAGA_4"
   ]
  },
  {
   "cell_type": "markdown",
   "id": "e8a38819",
   "metadata": {},
   "source": [
    "## Impor Library yang Dibutuhkan"
   ]
  },
  {
   "cell_type": "code",
   "execution_count": null,
   "id": "bf47487e",
   "metadata": {},
   "outputs": [],
   "source": [
    "import pandas as pd\n",
    "import numpy as np\n",
    "import matplotlib.pyplot as plt\n",
    "import seaborn as sns\n",
    "import joblib\n",
    "import os\n",
    "\n",
    "from sklearn.model_selection import train_test_split\n",
    "from sklearn.ensemble import RandomForestClassifier\n",
    "from sklearn.metrics import accuracy_score, classification_report, confusion_matrix\n",
    "\n",
    "sns.set_style('whitegrid')"
   ]
  },
  {
   "cell_type": "markdown",
   "id": "b83034a1",
   "metadata": {},
   "source": [
    "## Memuat dan Memeriksa Data"
   ]
  },
  {
   "cell_type": "code",
   "execution_count": null,
   "id": "0058de3a",
   "metadata": {},
   "outputs": [],
   "source": [
    "# Muat dataset\n",
    "file_path = 'data/Heart_Disease_Prediction.csv'\n",
    "df = pd.read_csv(file_path)\n",
    "\n",
    "df['Heart Disease'] = df['Heart Disease'].map({'Presence': 1, 'Absence': 0})\n",
    "\n",
    "print(\"5 Baris Pertama Data (setelah mapping):\")\n",
    "display(df.head())\n",
    "\n",
    "print(\"\\nInformasi Dataset (setelah mapping):\")\n",
    "df.info()"
   ]
  },
  {
   "cell_type": "markdown",
   "id": "495ac3f0",
   "metadata": {},
   "source": [
    "## Exploratory Data Analysis (EDA)"
   ]
  },
  {
   "cell_type": "code",
   "execution_count": null,
   "id": "ac70c260",
   "metadata": {},
   "outputs": [],
   "source": [
    "TARGET_COLUMN = 'Heart Disease'\n",
    "\n",
    "print(\"\\nStatistik Deskriptif:\")\n",
    "display(df.describe())\n",
    "\n",
    "print(\"\\nJumlah Nilai yang Hilang per Kolom:\")\n",
    "print(df.isnull().sum())\n",
    "\n",
    "plt.figure(figsize=(6, 4))\n",
    "sns.countplot(x=TARGET_COLUMN, data=df)\n",
    "plt.title('Distribusi Kelas Penyakit Jantung')\n",
    "plt.xlabel('Status Penyakit Jantung (0 = Tidak, 1 = Ya)')\n",
    "plt.ylabel('Jumlah Pasien')\n",
    "plt.show()\n",
    "\n",
    "plt.figure(figsize=(12, 10))\n",
    "sns.heatmap(df.corr(numeric_only=True), annot=True, cmap='coolwarm', fmt='.2f')\n",
    "plt.title('Heatmap Korelasi Antar Fitur')\n",
    "plt.show()"
   ]
  },
  {
   "cell_type": "markdown",
   "id": "778d6e74",
   "metadata": {},
   "source": [
    "## Preprocessing dan Persiapan Data"
   ]
  },
  {
   "cell_type": "code",
   "execution_count": null,
   "id": "a8a70d3d",
   "metadata": {},
   "outputs": [],
   "source": [
    "# ## Sel Preprocessing dan Persiapan Data (Versi Robust Final)\n",
    "\n",
    "from sklearn.impute import SimpleImputer\n",
    "from sklearn.preprocessing import StandardScaler\n",
    "import numpy as np\n",
    "\n",
    "# Diasumsikan 'df' adalah DataFrame mentah yang sudah dimuat\n",
    "TARGET_COLUMN = 'Heart Disease'\n",
    "\n",
    "# --- 1. Pembersihan Data Mentah ---\n",
    "# Hapus semua baris di mana label targetnya kosong. Ini langkah pertama dan terpenting.\n",
    "df.dropna(subset=[TARGET_COLUMN], inplace=True)\n",
    "print(f\"1. Baris dengan target kosong dihapus. Baris tersisa: {len(df)}\")\n",
    "\n",
    "# --- 2. Pisahkan Fitur dan Target yang Sudah Bersih ---\n",
    "X = df.drop(TARGET_COLUMN, axis=1)\n",
    "y = df[TARGET_COLUMN]\n",
    "print(\"2. Fitur (X) dan Target (y) telah dipisahkan.\")\n",
    "\n",
    "# --- 3. Preprocessing pada Fitur (X) ---\n",
    "# Identifikasi tipe-tipe kolom\n",
    "numerical_cols = X.select_dtypes(include=np.number).columns.tolist()\n",
    "categorical_cols = X.select_dtypes(include='object').columns.tolist() # (Jika ada di masa depan)\n",
    "\n",
    "# Isi nilai kosong yang MUNGKIN masih ada di kolom FITUR\n",
    "imputer_num = SimpleImputer(strategy='median')\n",
    "X[numerical_cols] = imputer_num.fit_transform(X[numerical_cols])\n",
    "print(\"3. Missing values pada fitur telah diisi (jika ada).\")\n",
    "\n",
    "# Standarisasi semua fitur numerik\n",
    "scaler = StandardScaler()\n",
    "X_scaled = scaler.fit_transform(X)\n",
    "X_preprocessed = pd.DataFrame(X_scaled, columns=X.columns)\n",
    "print(\"4. Semua fitur telah distandarisasi.\")\n",
    "\n",
    "# --- 4. Persiapan Akhir untuk Model ---\n",
    "# Bagi data yang SUDAH BERSIH DAN DIPROSES menjadi data latih dan uji\n",
    "X_train, X_test, y_train, y_test = train_test_split(\n",
    "    X_preprocessed, \n",
    "    y, \n",
    "    test_size=0.2, \n",
    "    random_state=42, \n",
    "    stratify=y\n",
    ")\n",
    "print(f\"\\n✅ Data siap. Bentuk X_train: {X_train.shape}\")"
   ]
  },
  {
   "cell_type": "markdown",
   "id": "a59cc361",
   "metadata": {},
   "source": [
    "## Melatih Model Machine Learning (update integrasi MLFlow)"
   ]
  },
  {
   "cell_type": "code",
   "execution_count": null,
   "id": "938aa8a1",
   "metadata": {},
   "outputs": [],
   "source": [
    "# ## Melatih Model Machine Learning (Final dengan Koneksi Server MLflow)\n",
    "\n",
    "from sklearn.ensemble import RandomForestClassifier\n",
    "from sklearn.metrics import accuracy_score, recall_score, precision_score, f1_score\n",
    "from mlflow.models import infer_signature\n",
    "import mlflow\n",
    "import mlflow.sklearn\n",
    "\n",
    "# --- 1. Hubungkan ke Server MLflow ---\n",
    "# Baris ini SANGAT PENTING untuk mengirim log ke server Docker Anda\n",
    "mlflow.set_tracking_uri(\"http://localhost:5000\")\n",
    "\n",
    "# Atur nama eksperimen\n",
    "mlflow.set_experiment(\"Prediksi Penyakit Jantung v2\")\n",
    "\n",
    "# --- 2. Mulai Sesi Pencatatan Eksperimen ---\n",
    "with mlflow.start_run(run_name=\"RandomForest_Final_Run\"):\n",
    "    \n",
    "    # Inisialisasi model terlebih dahulu\n",
    "    model = RandomForestClassifier(n_estimators=100, random_state=42, class_weight='balanced')\n",
    "    \n",
    "    # Log SEMUA parameter model (praktik terbaik)\n",
    "    mlflow.log_params(model.get_params())\n",
    "    \n",
    "    # Latih model dengan data training\n",
    "    print(\"Memulai proses training model...\")\n",
    "    model.fit(X_train, y_train)\n",
    "    print(\"Model berhasil dilatih!\")\n",
    "    \n",
    "    # Buat signature dari data latih untuk input model\n",
    "    y_pred_train = model.predict(X_train)\n",
    "    signature = infer_signature(X_train, y_pred_train)\n",
    "    \n",
    "    # Lakukan prediksi pada data uji untuk evaluasi\n",
    "    y_pred_test = model.predict(X_test)\n",
    "    \n",
    "    # Kumpulkan dan log metrik evaluasi\n",
    "    metrics = {\n",
    "        \"accuracy\": accuracy_score(y_test, y_pred_test),\n",
    "        \"recall\": recall_score(y_test, y_pred_test),\n",
    "        \"precision\": precision_score(y_test, y_pred_test),\n",
    "        \"f1_score\": f1_score(y_test, y_pred_test)\n",
    "    }\n",
    "    mlflow.log_metrics(metrics)\n",
    "    \n",
    "    # Log model sebagai artefak beserta signature-nya\n",
    "    mlflow.sklearn.log_model(\n",
    "        sk_model=model,\n",
    "        name=\"model\",\n",
    "        signature=signature\n",
    "    )\n",
    "    \n",
    "    print(\"\\n✅ Eksperimen telah berhasil dicatat ke SERVER MLflow.\")"
   ]
  },
  {
   "cell_type": "code",
   "execution_count": 19,
   "id": "a07a3a7d",
   "metadata": {},
   "outputs": [
    {
     "name": "stdout",
     "output_type": "stream",
     "text": [
      "3.1.1\n"
     ]
    }
   ],
   "source": [
    "import mlflow\n",
    "print(mlflow.__version__)"
   ]
  },
  {
   "cell_type": "markdown",
   "id": "d4f995cd",
   "metadata": {},
   "source": [
    "## Evaluasi Model"
   ]
  },
  {
   "cell_type": "code",
   "execution_count": null,
   "id": "6fac6e39",
   "metadata": {},
   "outputs": [],
   "source": [
    "y_pred = model.predict(X_test)\n",
    "\n",
    "# akurasi\n",
    "accuracy = accuracy_score(y_test, y_pred)\n",
    "print(f\"Akurasi Model: {accuracy:.4f}\")\n",
    "\n",
    "# presisi, recall, f1-score\n",
    "print(\"\\nLaporan Klasifikasi:\")\n",
    "print(classification_report(y_test, y_pred))\n",
    "\n",
    "# confusion matrix\n",
    "print(\"\\nConfusion Matrix:\")\n",
    "cm = confusion_matrix(y_test, y_pred)\n",
    "sns.heatmap(cm, annot=True, fmt='d', cmap='Blues')\n",
    "plt.xlabel('Prediksi')\n",
    "plt.ylabel('Aktual')\n",
    "plt.title('Confusion Matrix')\n",
    "plt.show()"
   ]
  },
  {
   "cell_type": "markdown",
   "id": "5cbfc718",
   "metadata": {},
   "source": [
    "##  Menyimpan Model yang Telah Dilatih"
   ]
  },
  {
   "cell_type": "code",
   "execution_count": null,
   "id": "a679887d",
   "metadata": {},
   "outputs": [],
   "source": [
    "model_dir = 'model'\n",
    "model_path = os.path.join(model_dir, 'random_forest_heart_disease.joblib')\n",
    "\n",
    "if not os.path.exists(model_dir):\n",
    "    os.makedirs(model_dir)\n",
    "\n",
    "joblib.dump(model, model_path)\n",
    "\n",
    "print(f\"Model telah berhasil disimpan di: {model_path}\")"
   ]
  },
  {
   "cell_type": "markdown",
   "id": "f3c272ec",
   "metadata": {},
   "source": [
    "# Membuat Data Sintetis dan Simulasi Drift"
   ]
  }
 ],
 "metadata": {
  "kernelspec": {
   "display_name": "Python (nama_env_kamu)",
   "language": "python",
   "name": "nama_env_kamu"
  },
  "language_info": {
   "codemirror_mode": {
    "name": "ipython",
    "version": 3
   },
   "file_extension": ".py",
   "mimetype": "text/x-python",
   "name": "python",
   "nbconvert_exporter": "python",
   "pygments_lexer": "ipython3",
   "version": "3.12.0"
  }
 },
 "nbformat": 4,
 "nbformat_minor": 5
}
